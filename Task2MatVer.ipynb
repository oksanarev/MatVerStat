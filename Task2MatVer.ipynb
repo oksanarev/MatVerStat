{
 "cells": [
  {
   "cell_type": "markdown",
   "id": "f6eac66c",
   "metadata": {},
   "source": [
    "# Задача 1.\n",
    "Контрольная работа состоит из пяти вопросов. На ĸаждый вопрос приведено четыре\n",
    "варианта ответа, один из ĸоторых правильный. Составьте заĸон распределения числа\n",
    "правильных ответов при простом угадывании. Найдите M(X) , D(X) ."
   ]
  },
  {
   "cell_type": "code",
   "execution_count": 1,
   "id": "9dba2ebe",
   "metadata": {},
   "outputs": [],
   "source": [
    "import numpy as np\n",
    "from math import factorial"
   ]
  },
  {
   "cell_type": "markdown",
   "id": "fa05fb03",
   "metadata": {},
   "source": [
    "Решение:\n",
    "n = 5 (пять вопросов), p = 1/4(выбираем 1 ответ из 4)\n",
    "x = 0 (не угадали ничего),x = 1(угадали 1 ответ) и т.д x = 2, x = 3, x = 4, x = 5.\n",
    "\n",
    "Найдём распределение Пуансона для каждого события x"
   ]
  },
  {
   "cell_type": "code",
   "execution_count": 2,
   "id": "c85e834c",
   "metadata": {},
   "outputs": [],
   "source": [
    "def combinations(n, k):\n",
    "    return int(factorial(n) / (factorial(k) * factorial(n - k)))"
   ]
  },
  {
   "cell_type": "code",
   "execution_count": 3,
   "id": "ee5fae56",
   "metadata": {},
   "outputs": [
    {
     "data": {
      "text/plain": [
       "0.2373046875"
      ]
     },
     "execution_count": 3,
     "metadata": {},
     "output_type": "execute_result"
    }
   ],
   "source": [
    "n = 5\n",
    "k = 0 #ни один ответ не угадан\n",
    "p = 1/4\n",
    "X0 = combinations(n, k) * (p ** k) * (1 - p) ** (n - k)\n",
    "X0"
   ]
  },
  {
   "cell_type": "code",
   "execution_count": 4,
   "id": "3b6be044",
   "metadata": {},
   "outputs": [
    {
     "data": {
      "text/plain": [
       "0.3955078125"
      ]
     },
     "execution_count": 4,
     "metadata": {},
     "output_type": "execute_result"
    }
   ],
   "source": [
    "k = 1 # угадан 1 ответ\n",
    "X1 = combinations(n, k) * (p ** k) * (1 - p) ** (n - k)\n",
    "X1"
   ]
  },
  {
   "cell_type": "code",
   "execution_count": 5,
   "id": "1bec85a5",
   "metadata": {},
   "outputs": [
    {
     "data": {
      "text/plain": [
       "0.263671875"
      ]
     },
     "execution_count": 5,
     "metadata": {},
     "output_type": "execute_result"
    }
   ],
   "source": [
    "k = 2 #угадано 2 ответа\n",
    "X2 = combinations(n, k) * (p ** k) * (1 - p) ** (n - k)\n",
    "X2"
   ]
  },
  {
   "cell_type": "code",
   "execution_count": 6,
   "id": "74d18bdb",
   "metadata": {},
   "outputs": [
    {
     "data": {
      "text/plain": [
       "0.087890625"
      ]
     },
     "execution_count": 6,
     "metadata": {},
     "output_type": "execute_result"
    }
   ],
   "source": [
    "k = 3 #угадано 3 ответа\n",
    "X3 = combinations(n, k) * (p ** k) * (1 - p) ** (n - k)\n",
    "X3"
   ]
  },
  {
   "cell_type": "code",
   "execution_count": 7,
   "id": "6350566f",
   "metadata": {},
   "outputs": [
    {
     "data": {
      "text/plain": [
       "0.0146484375"
      ]
     },
     "execution_count": 7,
     "metadata": {},
     "output_type": "execute_result"
    }
   ],
   "source": [
    "k = 4 #угадано 4 ответа\n",
    "X4 = combinations(n, k) * (p ** k) * (1 - p) ** (n - k)\n",
    "X4"
   ]
  },
  {
   "cell_type": "code",
   "execution_count": 8,
   "id": "e89c720e",
   "metadata": {},
   "outputs": [
    {
     "data": {
      "text/plain": [
       "0.0009765625"
      ]
     },
     "execution_count": 8,
     "metadata": {},
     "output_type": "execute_result"
    }
   ],
   "source": [
    "k = 5 #все ответы угаданы\n",
    "X5 = combinations(n, k) * (p ** k) * (1 - p) ** (n - k)\n",
    "X5"
   ]
  },
  {
   "cell_type": "markdown",
   "id": "7b9186f8",
   "metadata": {},
   "source": [
    "Закон распределения правильных ответов выглядит так:\n",
    "\n",
    " x     0     1     2     3     4      5\n",
    " \n",
    " p   0.237 0.396 0.264 0.0879 0.0146 0.000977"
   ]
  },
  {
   "cell_type": "markdown",
   "id": "48cc2cc0",
   "metadata": {},
   "source": [
    "Посчитаем математическое ожидание:\n",
    "\n",
    "M(X)= np = 5⋅0.25 = 1.25\n",
    "\n",
    "Теперь посчитаем дисперсию, зная, что величина  q (1 - p = 0.75) :\n",
    "\n",
    "D(X)= npq = 5⋅0.25⋅0.75 = 0.9375"
   ]
  },
  {
   "cell_type": "markdown",
   "id": "59d4f426",
   "metadata": {},
   "source": [
    "# Задача 2.\n",
    "Вероятность попадания в цель при одном выстреле равна 0.01. Каĸова вероятность\n",
    "того, что число попаданий при 200 выстрелах будет не менее 5 и не более 10?"
   ]
  },
  {
   "cell_type": "markdown",
   "id": "4ffc105c",
   "metadata": {},
   "source": [
    "Решение:\n",
    "n = 200, p = 0,01, x = 5(5 попаданий), x = 6 (6 попаданий) и т.д. до 10, x = 7, x = 8, x = 9, x = 10\n",
    "Используем формулу Пуансона"
   ]
  },
  {
   "cell_type": "code",
   "execution_count": 9,
   "id": "fa9cab57",
   "metadata": {},
   "outputs": [
    {
     "data": {
      "text/plain": [
       "0.03608940886309672"
      ]
     },
     "execution_count": 9,
     "metadata": {},
     "output_type": "execute_result"
    }
   ],
   "source": [
    "n = 200\n",
    "m = 5 # 5 попаданий\n",
    "p = 0.01\n",
    "lambda_ = n * p\n",
    "\n",
    "X5 = (lambda_**m / np.math.factorial(m)) * np.exp(-lambda_)\n",
    "X5"
   ]
  },
  {
   "cell_type": "code",
   "execution_count": 10,
   "id": "6f577eba",
   "metadata": {},
   "outputs": [
    {
     "data": {
      "text/plain": [
       "0.012029802954365574"
      ]
     },
     "execution_count": 10,
     "metadata": {},
     "output_type": "execute_result"
    }
   ],
   "source": [
    "m = 6 # 6 попаданий\n",
    "X6 = (lambda_**m / np.math.factorial(m)) * np.exp(-lambda_)\n",
    "X6"
   ]
  },
  {
   "cell_type": "code",
   "execution_count": 11,
   "id": "d40230fc",
   "metadata": {},
   "outputs": [
    {
     "data": {
      "text/plain": [
       "0.0034370865583901638"
      ]
     },
     "execution_count": 11,
     "metadata": {},
     "output_type": "execute_result"
    }
   ],
   "source": [
    "m = 7 # 7 попаданий\n",
    "X7 = (lambda_**m / np.math.factorial(m)) * np.exp(-lambda_)\n",
    "X7"
   ]
  },
  {
   "cell_type": "code",
   "execution_count": 12,
   "id": "d20e3a11",
   "metadata": {},
   "outputs": [
    {
     "data": {
      "text/plain": [
       "0.0008592716395975409"
      ]
     },
     "execution_count": 12,
     "metadata": {},
     "output_type": "execute_result"
    }
   ],
   "source": [
    "m = 8 # 8 попаданий\n",
    "X8 = (lambda_**m / np.math.factorial(m)) * np.exp(-lambda_)\n",
    "X8"
   ]
  },
  {
   "cell_type": "code",
   "execution_count": 13,
   "id": "67c7dabd",
   "metadata": {},
   "outputs": [
    {
     "data": {
      "text/plain": [
       "0.000190949253243898"
      ]
     },
     "execution_count": 13,
     "metadata": {},
     "output_type": "execute_result"
    }
   ],
   "source": [
    "m = 9 # 9 попаданий\n",
    "X9 = (lambda_**m / np.math.factorial(m)) * np.exp(-lambda_)\n",
    "X9"
   ]
  },
  {
   "cell_type": "code",
   "execution_count": 14,
   "id": "fdd6e175",
   "metadata": {},
   "outputs": [
    {
     "data": {
      "text/plain": [
       "3.8189850648779595e-05"
      ]
     },
     "execution_count": 14,
     "metadata": {},
     "output_type": "execute_result"
    }
   ],
   "source": [
    "m = 10 # 10 попаданий\n",
    "X10 = (lambda_**m / np.math.factorial(m)) * np.exp(-lambda_)\n",
    "X10"
   ]
  },
  {
   "cell_type": "markdown",
   "id": "207b3eda",
   "metadata": {},
   "source": [
    "Так как события несовместные, искомая вероятность может быть найдена по формуле сложения вероятностей:\n",
    "P6(5 ≤ k ≤ 10)= P6(5) + P6(6) + P6(7) + P6(8) + P6(9) + P6(10) ="
   ]
  },
  {
   "cell_type": "code",
   "execution_count": 15,
   "id": "35b9d310",
   "metadata": {},
   "outputs": [
    {
     "data": {
      "text/plain": [
       "0.052644709119342686"
      ]
     },
     "execution_count": 15,
     "metadata": {},
     "output_type": "execute_result"
    }
   ],
   "source": [
    "P6 = X5 + X6 + X7 + X8 + X9 + X10\n",
    "P6"
   ]
  },
  {
   "cell_type": "markdown",
   "id": "0f886b57",
   "metadata": {},
   "source": [
    "# Задача3\n",
    "В условиях предыдущей задачи сĸольĸо выстрелов нужно сделать чтобы быть\n",
    "уверенным с вероятностью 0.9, что хотя бы 10 раз будет совершено попадание?\n",
    "Подсĸазĸа. Каĸ посчитать P(X >= k) для величины X , имеющей распределение\n",
    "Пуассона? Здесь предстоит немножĸо поĸодить"
   ]
  },
  {
   "cell_type": "markdown",
   "id": "8ba42d92",
   "metadata": {},
   "source": [
    "Решение:\n",
    "P(X>=k) для велечины X ровна 1 - P(X< k), то количество промахов, при 10 попаданиях будет n - 10, значит наша вероятность равна\n",
    "0.9 = 1 - q в степени (n-10),q = 1-p, т.е. 1-0.01=0.99. Отсюда получается, что 0.9 = 0.99 в степени (n-10). Найдём n путём подбора."
   ]
  },
  {
   "cell_type": "code",
   "execution_count": 16,
   "id": "b4b0f5bb",
   "metadata": {},
   "outputs": [
    {
     "name": "stdout",
     "output_type": "stream",
     "text": [
      " Количество выстрелов равно 240\n"
     ]
    }
   ],
   "source": [
    "p = 0.1\n",
    "\n",
    "for i in range(1, 1600, 1):\n",
    "    n1 = i\n",
    "    \n",
    "    q1 = 0.99 ** n1\n",
    "    \n",
    "    if 0 < (p - q1) < 0.001:\n",
    "        break\n",
    "print(f\" Количество выстрелов равно {n1 + 10}\")"
   ]
  },
  {
   "cell_type": "markdown",
   "id": "8ed390ef",
   "metadata": {},
   "source": []
  },
  {
   "cell_type": "markdown",
   "id": "ac974ecc",
   "metadata": {},
   "source": [
    "При ручном подборе получилось 228, значит количество выстрелов 238"
   ]
  },
  {
   "cell_type": "markdown",
   "id": "597969eb",
   "metadata": {},
   "source": [
    "В первом случае получили вероятность, числа попаданий от 0 до 10. "
   ]
  },
  {
   "cell_type": "markdown",
   "id": "ad0fae35",
   "metadata": {},
   "source": [
    "Вариант, как я думаю, верный, представим 0.9 как 1 -(P(10)+P(9)+P(8)+P(7)+P(6)+P(5)+P(4)+P(3)+P(2)+P(1)+P(0)).Путём подбора\n",
    "получаем количество выстрелов.\n"
   ]
  },
  {
   "cell_type": "code",
   "execution_count": 17,
   "id": "99f3e47c",
   "metadata": {},
   "outputs": [
    {
     "name": "stdout",
     "output_type": "stream",
     "text": [
      "1400\n"
     ]
    }
   ],
   "source": [
    "p = 0.01\n",
    "p2 = 0.9\n",
    "for i in range(100, 10000, 10):\n",
    "    lambda_ = i * p\n",
    "    p1 = 1 - ((lambda_**9 / np.math.factorial(9)) * np.exp(-lambda_) +(lambda_**8 / np.math.factorial(8)) * np.exp(-lambda_)+\n",
    "    (lambda_**7 / np.math.factorial(7)) * np.exp(-lambda_) +(lambda_**6 / np.math.factorial(6)) * np.exp(-lambda_) + \n",
    "    (lambda_**5 / np.math.factorial(5)) * np.exp(-lambda_) +(lambda_**4 / np.math.factorial(4)) * np.exp(-lambda_) +\n",
    "    (lambda_**3 / np.math.factorial(3)) * np.exp(-lambda_) +(lambda_**2 / np.math.factorial(2)) * np.exp(-lambda_) + \n",
    "    (lambda_**1 / np.math.factorial(1)) * np.exp(-lambda_)+(lambda_**0 / np.math.factorial(0)) * np.exp(-lambda_))\n",
    "    if 0 < p2 - p1 < 0.01:\n",
    "        break\n",
    "print(i)        "
   ]
  },
  {
   "cell_type": "code",
   "execution_count": null,
   "id": "3e779371",
   "metadata": {},
   "outputs": [],
   "source": []
  }
 ],
 "metadata": {
  "kernelspec": {
   "display_name": "Python 3",
   "language": "python",
   "name": "python3"
  },
  "language_info": {
   "codemirror_mode": {
    "name": "ipython",
    "version": 3
   },
   "file_extension": ".py",
   "mimetype": "text/x-python",
   "name": "python",
   "nbconvert_exporter": "python",
   "pygments_lexer": "ipython3",
   "version": "3.8.8"
  }
 },
 "nbformat": 4,
 "nbformat_minor": 5
}
