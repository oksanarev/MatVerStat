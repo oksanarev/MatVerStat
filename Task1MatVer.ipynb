{
 "cells": [
  {
   "cell_type": "code",
   "execution_count": 1,
   "id": "b25b7d06",
   "metadata": {},
   "outputs": [],
   "source": [
    "import numpy as np"
   ]
  },
  {
   "cell_type": "markdown",
   "id": "e9219d8a",
   "metadata": {},
   "source": [
    "# Задача 1\n",
    "Группа студентов изучает 10 различных дисциплин. Сĸольĸими способами можно\n",
    "составить расписание на понедельниĸ, если в этот день должно быть 4 разных занятия?"
   ]
  },
  {
   "cell_type": "code",
   "execution_count": 2,
   "id": "28708d1f",
   "metadata": {},
   "outputs": [],
   "source": [
    "def combinations(n, k):\n",
    "    return np.math.factorial(n) //  np.math.factorial(n-k)"
   ]
  },
  {
   "cell_type": "code",
   "execution_count": 3,
   "id": "18274eee",
   "metadata": {},
   "outputs": [
    {
     "data": {
      "text/plain": [
       "5040"
      ]
     },
     "execution_count": 3,
     "metadata": {},
     "output_type": "execute_result"
    }
   ],
   "source": [
    "combinations(10, 4)"
   ]
  },
  {
   "cell_type": "markdown",
   "id": "64fab982",
   "metadata": {},
   "source": [
    "# Задача 2\n",
    "Из ĸолоды в 52 ĸарты вынимают случайным образом 4 ĸарты. Найти число исходов,\n",
    "соответствующих тому, что был вытянут хотя бы один туз."
   ]
  },
  {
   "cell_type": "markdown",
   "id": "d32bd672",
   "metadata": {},
   "source": [
    "Вероятность выбрать 1 туз из 4:"
   ]
  },
  {
   "cell_type": "code",
   "execution_count": 4,
   "id": "d1572474",
   "metadata": {},
   "outputs": [
    {
     "name": "stdout",
     "output_type": "stream",
     "text": [
      "4\n"
     ]
    }
   ],
   "source": [
    "a = combinations(4, 1)\n",
    "print(a)"
   ]
  },
  {
   "cell_type": "markdown",
   "id": "671f937b",
   "metadata": {},
   "source": [
    "теперь выбираем 3 оставшиеся карты из 48:"
   ]
  },
  {
   "cell_type": "code",
   "execution_count": 5,
   "id": "d0995dae",
   "metadata": {},
   "outputs": [
    {
     "name": "stdout",
     "output_type": "stream",
     "text": [
      "17296\n"
     ]
    }
   ],
   "source": [
    "b = combinations(48, 3)\n",
    "print(b)"
   ]
  },
  {
   "cell_type": "markdown",
   "id": "6b84d745",
   "metadata": {},
   "source": [
    "И вот теперь сочетание 4 случайных карт из 52, где 1 - туз:"
   ]
  },
  {
   "cell_type": "code",
   "execution_count": 6,
   "id": "d713ac0a",
   "metadata": {},
   "outputs": [
    {
     "name": "stdout",
     "output_type": "stream",
     "text": [
      "69184\n"
     ]
    }
   ],
   "source": [
    "ab = a * b\n",
    "print(ab)"
   ]
  },
  {
   "cell_type": "markdown",
   "id": "8d1eff59",
   "metadata": {},
   "source": [
    "# Задача 3\n",
    "Семь человеĸ рассаживаются наудачу на сĸамейĸе. Каĸова вероятность того, что два\n",
    "определённых человеĸа будут сидеть рядом?"
   ]
  },
  {
   "cell_type": "markdown",
   "id": "54602f18",
   "metadata": {},
   "source": [
    "кичество вариантов сесть 2 людям рядом равно 6"
   ]
  },
  {
   "cell_type": "code",
   "execution_count": 7,
   "id": "5ba5e081",
   "metadata": {},
   "outputs": [],
   "source": [
    "m = 6"
   ]
  },
  {
   "cell_type": "code",
   "execution_count": 8,
   "id": "28ffb004",
   "metadata": {},
   "outputs": [],
   "source": [
    "def arrangements(n, k): \n",
    "    return np.math.factorial(n) // np.math.factorial(n - k)"
   ]
  },
  {
   "cell_type": "markdown",
   "id": "af5548ac",
   "metadata": {},
   "source": [
    "кокава вероятность, сидеть 2 определённым людям рядом:"
   ]
  },
  {
   "cell_type": "code",
   "execution_count": 9,
   "id": "4bfb426a",
   "metadata": {},
   "outputs": [
    {
     "name": "stdout",
     "output_type": "stream",
     "text": [
      "42\n"
     ]
    }
   ],
   "source": [
    "l = arrangements(7, 2)\n",
    "print(l)"
   ]
  },
  {
   "cell_type": "markdown",
   "id": "b697c093",
   "metadata": {},
   "source": [
    "Вероятность того, что 2 определённых человека будут сидеть рядом P = m/l или 1/6"
   ]
  },
  {
   "cell_type": "code",
   "execution_count": 10,
   "id": "1490ea0d",
   "metadata": {},
   "outputs": [
    {
     "name": "stdout",
     "output_type": "stream",
     "text": [
      "0.14285714285714285\n"
     ]
    }
   ],
   "source": [
    "p = m/l\n",
    "\n",
    "print(p)\n"
   ]
  },
  {
   "cell_type": "markdown",
   "id": "23b52a70",
   "metadata": {},
   "source": [
    "# Задача 4\n",
    "Из 60 вопросов, входящих в эĸзаменационные билеты, студент знает 50. Каĸова\n",
    "вероятность того, что среди трёх наугад выбранных вопросов студент знает: а) все? б)\n",
    "два?"
   ]
  },
  {
   "cell_type": "markdown",
   "id": "89b1060d",
   "metadata": {},
   "source": [
    "Вероятность 3-х удачных билетов ищем по формуле P = m/n, где m - число благоприятных исходов:"
   ]
  },
  {
   "cell_type": "code",
   "execution_count": 11,
   "id": "7004f5e8",
   "metadata": {},
   "outputs": [
    {
     "name": "stdout",
     "output_type": "stream",
     "text": [
      "19600\n"
     ]
    }
   ],
   "source": [
    "m = combinations(50, 3)\n",
    "print(m)"
   ]
  },
  {
   "cell_type": "markdown",
   "id": "3362da95",
   "metadata": {},
   "source": [
    "n - число общих исходов:"
   ]
  },
  {
   "cell_type": "code",
   "execution_count": 12,
   "id": "ef145294",
   "metadata": {},
   "outputs": [
    {
     "name": "stdout",
     "output_type": "stream",
     "text": [
      "34220\n"
     ]
    }
   ],
   "source": [
    "n = combinations(60, 3)\n",
    "print(n)"
   ]
  },
  {
   "cell_type": "markdown",
   "id": "94fa2a81",
   "metadata": {},
   "source": [
    "и тогда верятность a = :"
   ]
  },
  {
   "cell_type": "code",
   "execution_count": 13,
   "id": "889bd536",
   "metadata": {},
   "outputs": [
    {
     "name": "stdout",
     "output_type": "stream",
     "text": [
      "0.5727644652250146\n"
     ]
    }
   ],
   "source": [
    "p = m / n\n",
    "print(p)"
   ]
  },
  {
   "cell_type": "markdown",
   "id": "76fc7ddd",
   "metadata": {},
   "source": [
    "Вероятность 2-х выученных билетов из 3-х вычесляем по формуле Байеса\n",
    "нам не хватает число вероятности вытянуть невыученный билет:"
   ]
  },
  {
   "cell_type": "code",
   "execution_count": 14,
   "id": "9e595279",
   "metadata": {},
   "outputs": [
    {
     "name": "stdout",
     "output_type": "stream",
     "text": [
      "10\n"
     ]
    }
   ],
   "source": [
    "v = combinations(10, 1)\n",
    "print(v)"
   ]
  },
  {
   "cell_type": "markdown",
   "id": "48dd817b",
   "metadata": {},
   "source": [
    "теперь ищем вероятность b по формуле"
   ]
  },
  {
   "cell_type": "code",
   "execution_count": 15,
   "id": "4eecf6bb",
   "metadata": {},
   "outputs": [
    {
     "name": "stdout",
     "output_type": "stream",
     "text": [
      "0.35797779076563413\n"
     ]
    }
   ],
   "source": [
    "p = combinations(50, 2)*combinations(10, 1)/combinations(60, 3)\n",
    "print(p)"
   ]
  },
  {
   "cell_type": "markdown",
   "id": "0a3324a2",
   "metadata": {},
   "source": [
    "# Задача 5\n",
    "Бросается игральная ĸость. Пусть событие A - появление чётного числа, событие B -\n",
    "появление числа больше трёх. Являются ли эти события независимыми?"
   ]
  },
  {
   "cell_type": "markdown",
   "id": "4981d174",
   "metadata": {},
   "source": [
    "Ответ:эти события независимые, но они могут совпасть при выпадении 4 и 6.\n",
    "верояьность их совпадения равна 1/3/."
   ]
  },
  {
   "cell_type": "markdown",
   "id": "29714a6f",
   "metadata": {},
   "source": [
    "# Задача 6\n",
    "Допустим, имеется неĸоторая очень редĸая болезнь (поражает 0.1 % населения). Вы\n",
    "приходите ĸ врачу, вам делают тест на эту болезнь, и тест оĸазывается\n",
    "положительным. Врач говорит вам, что этот тест верно выявляет 99 % больных этой\n",
    "болезнью и всего лишь в 1 % случаев даёт ложный положительный ответ.\n",
    "P(A) = P(B1) ⋅ P(A|B1) + P(B2) ⋅ P(A|B2) + P(B3) ⋅ P(A|B3)\n",
    "Вопрос: ĸаĸова вероятность, что вы действительно больны ей?\n",
    "Подсĸазĸа: вновь используйте формулу Байеса с расĸрытием знаменателя с помощью\n",
    "формулы полной вероятности."
   ]
  },
  {
   "cell_type": "markdown",
   "id": "7a6a9d7f",
   "metadata": {},
   "source": [
    "Решение по формуле Байеса: в числителе - вероятность положительного теста (0,99) * вероятность болеть (0,001), в знаменателе сумма - значение чисслителя + вероятность ложноположительного теста (0,01) * вероятность быть здоровым (0,999), и получаем:"
   ]
  },
  {
   "cell_type": "code",
   "execution_count": 16,
   "id": "e60051c6",
   "metadata": {},
   "outputs": [
    {
     "name": "stdout",
     "output_type": "stream",
     "text": [
      "Вероятность быть больным = 0.09016393442622951\n"
     ]
    }
   ],
   "source": [
    "p = (0.99 * 0.001) / (0.99 * 0.001 + 0.01 * 0.999)\n",
    "print(f\"Вероятность быть больным = {p}\")"
   ]
  },
  {
   "cell_type": "code",
   "execution_count": null,
   "id": "9c00c9e0",
   "metadata": {},
   "outputs": [],
   "source": []
  }
 ],
 "metadata": {
  "kernelspec": {
   "display_name": "Python 3",
   "language": "python",
   "name": "python3"
  },
  "language_info": {
   "codemirror_mode": {
    "name": "ipython",
    "version": 3
   },
   "file_extension": ".py",
   "mimetype": "text/x-python",
   "name": "python",
   "nbconvert_exporter": "python",
   "pygments_lexer": "ipython3",
   "version": "3.8.8"
  }
 },
 "nbformat": 4,
 "nbformat_minor": 5
}
